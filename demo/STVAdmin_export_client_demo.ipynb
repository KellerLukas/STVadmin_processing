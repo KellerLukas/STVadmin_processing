{
 "cells": [
  {
   "cell_type": "code",
   "execution_count": 1,
   "metadata": {},
   "outputs": [],
   "source": [
    "from src.STVAdmin_export_client import STVAdminExportClient"
   ]
  },
  {
   "cell_type": "code",
   "execution_count": 2,
   "metadata": {},
   "outputs": [],
   "source": [
    "client = STVAdminExportClient(keep_files=True,debugging_mode=False)"
   ]
  },
  {
   "cell_type": "code",
   "execution_count": 3,
   "metadata": {},
   "outputs": [
    {
     "name": "stderr",
     "output_type": "stream",
     "text": [
      "/Users/Lukas/Documents/Programming/Git/STVadmin_processing/.venv/lib/python3.12/site-packages/openpyxl/worksheet/header_footer.py:48: UserWarning: Cannot parse header or footer so it will be ignored\n",
      "  warn(\"\"\"Cannot parse header or footer so it will be ignored\"\"\")\n",
      "/Users/Lukas/Documents/Programming/Git/STVadmin_processing/.venv/lib/python3.12/site-packages/openpyxl/worksheet/header_footer.py:48: UserWarning: Cannot parse header or footer so it will be ignored\n",
      "  warn(\"\"\"Cannot parse header or footer so it will be ignored\"\"\")\n",
      "WARNING:root:Person Hans Stebler is missing email steflu@gmx.ch that was present in backup\n",
      "/Users/Lukas/Documents/Programming/Git/STVadmin_processing/src/utils/adress_databases.py:60: FutureWarning: The behavior of DataFrame concatenation with empty or all-NA entries is deprecated. In a future version, this will no longer exclude empty or all-NA columns when determining the result dtypes. To retain the old behavior, exclude the relevant entries before the concat operation.\n",
      "  self._df = pd.concat([self._df, pd.DataFrame.from_dict(entry_constructor_dict)])\n",
      "/Users/Lukas/Documents/Programming/Git/STVadmin_processing/.venv/lib/python3.12/site-packages/openpyxl/worksheet/header_footer.py:48: UserWarning: Cannot parse header or footer so it will be ignored\n",
      "  warn(\"\"\"Cannot parse header or footer so it will be ignored\"\"\")\n"
     ]
    },
    {
     "data": {
      "text/plain": [
       "<src.utils.databases.Database at 0x134b821b0>"
      ]
     },
     "execution_count": 3,
     "metadata": {},
     "output_type": "execute_result"
    }
   ],
   "source": [
    "client.main_db"
   ]
  },
  {
   "cell_type": "code",
   "execution_count": 4,
   "metadata": {},
   "outputs": [
    {
     "name": "stderr",
     "output_type": "stream",
     "text": [
      "/Users/Lukas/Documents/Programming/Git/STVadmin_processing/src/utils/cleverreach_database.py:86: FutureWarning: The behavior of DataFrame concatenation with empty or all-NA entries is deprecated. In a future version, this will no longer exclude empty or all-NA columns when determining the result dtypes. To retain the old behavior, exclude the relevant entries before the concat operation.\n",
      "  self._df = pd.concat([self._df, pd.DataFrame.from_dict(entry_constructor_dict)])\n"
     ]
    }
   ],
   "source": [
    "client.export_cleverreach_csv()"
   ]
  },
  {
   "cell_type": "code",
   "execution_count": 5,
   "metadata": {},
   "outputs": [
    {
     "name": "stdout",
     "output_type": "stream",
     "text": [
      "\n",
      "            ältestes Mitglied: 98 Jahre alt \n",
      "            jüngstes Mitglied: 3 Jahre alt\n",
      "            \n",
      "            Anzahl Erwachsene: 411\n",
      "            davon Anzahl Männer: 199\n",
      "            davon Anzahl aktive Männer: 147\n",
      "            davon Anzahl passive Männer: 52\n",
      "            davon Anzahl Frauen: 212\n",
      "            davon Anzahl aktive Frauen: 186\n",
      "            davon Anzahl passive Frauen: 26\n",
      "            \n",
      "            Anzahl Kinder: 251\n",
      "            davon Anzahl Jungs: 107\n",
      "            davon Anzahl Mädchen: 144\n",
      "            \n",
      "            Anzahl Mitglieder: 664\n",
      "            \n"
     ]
    }
   ],
   "source": [
    "print(client.get_statistics())"
   ]
  },
  {
   "cell_type": "code",
   "execution_count": 6,
   "metadata": {},
   "outputs": [
    {
     "name": "stderr",
     "output_type": "stream",
     "text": [
      "/Users/Lukas/Documents/Programming/Git/STVadmin_processing/src/utils/adress_databases.py:60: FutureWarning: The behavior of DataFrame concatenation with empty or all-NA entries is deprecated. In a future version, this will no longer exclude empty or all-NA columns when determining the result dtypes. To retain the old behavior, exclude the relevant entries before the concat operation.\n",
      "  self._df = pd.concat([self._df, pd.DataFrame.from_dict(entry_constructor_dict)])\n",
      "/Users/Lukas/Documents/Programming/Git/STVadmin_processing/src/utils/adress_databases.py:60: FutureWarning: The behavior of DataFrame concatenation with empty or all-NA entries is deprecated. In a future version, this will no longer exclude empty or all-NA columns when determining the result dtypes. To retain the old behavior, exclude the relevant entries before the concat operation.\n",
      "  self._df = pd.concat([self._df, pd.DataFrame.from_dict(entry_constructor_dict)])\n",
      "/Users/Lukas/Documents/Programming/Git/STVadmin_processing/src/utils/adress_databases.py:60: FutureWarning: The behavior of DataFrame concatenation with empty or all-NA entries is deprecated. In a future version, this will no longer exclude empty or all-NA columns when determining the result dtypes. To retain the old behavior, exclude the relevant entries before the concat operation.\n",
      "  self._df = pd.concat([self._df, pd.DataFrame.from_dict(entry_constructor_dict)])\n",
      "/Users/Lukas/Documents/Programming/Git/STVadmin_processing/src/utils/adress_databases.py:60: FutureWarning: The behavior of DataFrame concatenation with empty or all-NA entries is deprecated. In a future version, this will no longer exclude empty or all-NA columns when determining the result dtypes. To retain the old behavior, exclude the relevant entries before the concat operation.\n",
      "  self._df = pd.concat([self._df, pd.DataFrame.from_dict(entry_constructor_dict)])\n",
      "/Users/Lukas/Documents/Programming/Git/STVadmin_processing/src/utils/adress_databases.py:60: FutureWarning: The behavior of DataFrame concatenation with empty or all-NA entries is deprecated. In a future version, this will no longer exclude empty or all-NA columns when determining the result dtypes. To retain the old behavior, exclude the relevant entries before the concat operation.\n",
      "  self._df = pd.concat([self._df, pd.DataFrame.from_dict(entry_constructor_dict)])\n",
      "/Users/Lukas/Documents/Programming/Git/STVadmin_processing/src/utils/adress_databases.py:74: FutureWarning: The behavior of DataFrame concatenation with empty or all-NA entries is deprecated. In a future version, this will no longer exclude empty or all-NA columns when determining the result dtypes. To retain the old behavior, exclude the relevant entries before the concat operation.\n",
      "  self.df = pd.concat([member_df, coach_df])\n",
      "/Users/Lukas/Documents/Programming/Git/STVadmin_processing/src/utils/adress_databases.py:60: FutureWarning: The behavior of DataFrame concatenation with empty or all-NA entries is deprecated. In a future version, this will no longer exclude empty or all-NA columns when determining the result dtypes. To retain the old behavior, exclude the relevant entries before the concat operation.\n",
      "  self._df = pd.concat([self._df, pd.DataFrame.from_dict(entry_constructor_dict)])\n",
      "/Users/Lukas/Documents/Programming/Git/STVadmin_processing/src/utils/adress_databases.py:60: FutureWarning: The behavior of DataFrame concatenation with empty or all-NA entries is deprecated. In a future version, this will no longer exclude empty or all-NA columns when determining the result dtypes. To retain the old behavior, exclude the relevant entries before the concat operation.\n",
      "  self._df = pd.concat([self._df, pd.DataFrame.from_dict(entry_constructor_dict)])\n",
      "/Users/Lukas/Documents/Programming/Git/STVadmin_processing/src/utils/adress_databases.py:60: FutureWarning: The behavior of DataFrame concatenation with empty or all-NA entries is deprecated. In a future version, this will no longer exclude empty or all-NA columns when determining the result dtypes. To retain the old behavior, exclude the relevant entries before the concat operation.\n",
      "  self._df = pd.concat([self._df, pd.DataFrame.from_dict(entry_constructor_dict)])\n",
      "/Users/Lukas/Documents/Programming/Git/STVadmin_processing/src/utils/adress_databases.py:60: FutureWarning: The behavior of DataFrame concatenation with empty or all-NA entries is deprecated. In a future version, this will no longer exclude empty or all-NA columns when determining the result dtypes. To retain the old behavior, exclude the relevant entries before the concat operation.\n",
      "  self._df = pd.concat([self._df, pd.DataFrame.from_dict(entry_constructor_dict)])\n",
      "/Users/Lukas/Documents/Programming/Git/STVadmin_processing/src/utils/adress_databases.py:60: FutureWarning: The behavior of DataFrame concatenation with empty or all-NA entries is deprecated. In a future version, this will no longer exclude empty or all-NA columns when determining the result dtypes. To retain the old behavior, exclude the relevant entries before the concat operation.\n",
      "  self._df = pd.concat([self._df, pd.DataFrame.from_dict(entry_constructor_dict)])\n",
      "/Users/Lukas/Documents/Programming/Git/STVadmin_processing/src/utils/adress_databases.py:60: FutureWarning: The behavior of DataFrame concatenation with empty or all-NA entries is deprecated. In a future version, this will no longer exclude empty or all-NA columns when determining the result dtypes. To retain the old behavior, exclude the relevant entries before the concat operation.\n",
      "  self._df = pd.concat([self._df, pd.DataFrame.from_dict(entry_constructor_dict)])\n",
      "/Users/Lukas/Documents/Programming/Git/STVadmin_processing/src/utils/adress_databases.py:60: FutureWarning: The behavior of DataFrame concatenation with empty or all-NA entries is deprecated. In a future version, this will no longer exclude empty or all-NA columns when determining the result dtypes. To retain the old behavior, exclude the relevant entries before the concat operation.\n",
      "  self._df = pd.concat([self._df, pd.DataFrame.from_dict(entry_constructor_dict)])\n",
      "/Users/Lukas/Documents/Programming/Git/STVadmin_processing/src/utils/adress_databases.py:60: FutureWarning: The behavior of DataFrame concatenation with empty or all-NA entries is deprecated. In a future version, this will no longer exclude empty or all-NA columns when determining the result dtypes. To retain the old behavior, exclude the relevant entries before the concat operation.\n",
      "  self._df = pd.concat([self._df, pd.DataFrame.from_dict(entry_constructor_dict)])\n",
      "/Users/Lukas/Documents/Programming/Git/STVadmin_processing/src/utils/adress_databases.py:60: FutureWarning: The behavior of DataFrame concatenation with empty or all-NA entries is deprecated. In a future version, this will no longer exclude empty or all-NA columns when determining the result dtypes. To retain the old behavior, exclude the relevant entries before the concat operation.\n",
      "  self._df = pd.concat([self._df, pd.DataFrame.from_dict(entry_constructor_dict)])\n",
      "/Users/Lukas/Documents/Programming/Git/STVadmin_processing/src/utils/adress_databases.py:60: FutureWarning: The behavior of DataFrame concatenation with empty or all-NA entries is deprecated. In a future version, this will no longer exclude empty or all-NA columns when determining the result dtypes. To retain the old behavior, exclude the relevant entries before the concat operation.\n",
      "  self._df = pd.concat([self._df, pd.DataFrame.from_dict(entry_constructor_dict)])\n",
      "/Users/Lukas/Documents/Programming/Git/STVadmin_processing/src/utils/adress_databases.py:60: FutureWarning: The behavior of DataFrame concatenation with empty or all-NA entries is deprecated. In a future version, this will no longer exclude empty or all-NA columns when determining the result dtypes. To retain the old behavior, exclude the relevant entries before the concat operation.\n",
      "  self._df = pd.concat([self._df, pd.DataFrame.from_dict(entry_constructor_dict)])\n",
      "/Users/Lukas/Documents/Programming/Git/STVadmin_processing/src/utils/adress_databases.py:60: FutureWarning: The behavior of DataFrame concatenation with empty or all-NA entries is deprecated. In a future version, this will no longer exclude empty or all-NA columns when determining the result dtypes. To retain the old behavior, exclude the relevant entries before the concat operation.\n",
      "  self._df = pd.concat([self._df, pd.DataFrame.from_dict(entry_constructor_dict)])\n",
      "/Users/Lukas/Documents/Programming/Git/STVadmin_processing/src/utils/adress_databases.py:60: FutureWarning: The behavior of DataFrame concatenation with empty or all-NA entries is deprecated. In a future version, this will no longer exclude empty or all-NA columns when determining the result dtypes. To retain the old behavior, exclude the relevant entries before the concat operation.\n",
      "  self._df = pd.concat([self._df, pd.DataFrame.from_dict(entry_constructor_dict)])\n",
      "/Users/Lukas/Documents/Programming/Git/STVadmin_processing/src/utils/adress_databases.py:60: FutureWarning: The behavior of DataFrame concatenation with empty or all-NA entries is deprecated. In a future version, this will no longer exclude empty or all-NA columns when determining the result dtypes. To retain the old behavior, exclude the relevant entries before the concat operation.\n",
      "  self._df = pd.concat([self._df, pd.DataFrame.from_dict(entry_constructor_dict)])\n",
      "/Users/Lukas/Documents/Programming/Git/STVadmin_processing/src/utils/adress_databases.py:60: FutureWarning: The behavior of DataFrame concatenation with empty or all-NA entries is deprecated. In a future version, this will no longer exclude empty or all-NA columns when determining the result dtypes. To retain the old behavior, exclude the relevant entries before the concat operation.\n",
      "  self._df = pd.concat([self._df, pd.DataFrame.from_dict(entry_constructor_dict)])\n",
      "/Users/Lukas/Documents/Programming/Git/STVadmin_processing/src/utils/adress_databases.py:60: FutureWarning: The behavior of DataFrame concatenation with empty or all-NA entries is deprecated. In a future version, this will no longer exclude empty or all-NA columns when determining the result dtypes. To retain the old behavior, exclude the relevant entries before the concat operation.\n",
      "  self._df = pd.concat([self._df, pd.DataFrame.from_dict(entry_constructor_dict)])\n",
      "/Users/Lukas/Documents/Programming/Git/STVadmin_processing/src/utils/adress_databases.py:60: FutureWarning: The behavior of DataFrame concatenation with empty or all-NA entries is deprecated. In a future version, this will no longer exclude empty or all-NA columns when determining the result dtypes. To retain the old behavior, exclude the relevant entries before the concat operation.\n",
      "  self._df = pd.concat([self._df, pd.DataFrame.from_dict(entry_constructor_dict)])\n",
      "/Users/Lukas/Documents/Programming/Git/STVadmin_processing/src/utils/adress_databases.py:74: FutureWarning: The behavior of DataFrame concatenation with empty or all-NA entries is deprecated. In a future version, this will no longer exclude empty or all-NA columns when determining the result dtypes. To retain the old behavior, exclude the relevant entries before the concat operation.\n",
      "  self.df = pd.concat([member_df, coach_df])\n",
      "/Users/Lukas/Documents/Programming/Git/STVadmin_processing/src/utils/adress_databases.py:60: FutureWarning: The behavior of DataFrame concatenation with empty or all-NA entries is deprecated. In a future version, this will no longer exclude empty or all-NA columns when determining the result dtypes. To retain the old behavior, exclude the relevant entries before the concat operation.\n",
      "  self._df = pd.concat([self._df, pd.DataFrame.from_dict(entry_constructor_dict)])\n",
      "/Users/Lukas/Documents/Programming/Git/STVadmin_processing/src/utils/adress_databases.py:74: FutureWarning: The behavior of DataFrame concatenation with empty or all-NA entries is deprecated. In a future version, this will no longer exclude empty or all-NA columns when determining the result dtypes. To retain the old behavior, exclude the relevant entries before the concat operation.\n",
      "  self.df = pd.concat([member_df, coach_df])\n",
      "/Users/Lukas/Documents/Programming/Git/STVadmin_processing/src/utils/adress_databases.py:60: FutureWarning: The behavior of DataFrame concatenation with empty or all-NA entries is deprecated. In a future version, this will no longer exclude empty or all-NA columns when determining the result dtypes. To retain the old behavior, exclude the relevant entries before the concat operation.\n",
      "  self._df = pd.concat([self._df, pd.DataFrame.from_dict(entry_constructor_dict)])\n",
      "/Users/Lukas/Documents/Programming/Git/STVadmin_processing/src/utils/adress_databases.py:74: FutureWarning: The behavior of DataFrame concatenation with empty or all-NA entries is deprecated. In a future version, this will no longer exclude empty or all-NA columns when determining the result dtypes. To retain the old behavior, exclude the relevant entries before the concat operation.\n",
      "  self.df = pd.concat([member_df, coach_df])\n",
      "/Users/Lukas/Documents/Programming/Git/STVadmin_processing/src/utils/adress_databases.py:60: FutureWarning: The behavior of DataFrame concatenation with empty or all-NA entries is deprecated. In a future version, this will no longer exclude empty or all-NA columns when determining the result dtypes. To retain the old behavior, exclude the relevant entries before the concat operation.\n",
      "  self._df = pd.concat([self._df, pd.DataFrame.from_dict(entry_constructor_dict)])\n",
      "/Users/Lukas/Documents/Programming/Git/STVadmin_processing/src/utils/adress_databases.py:74: FutureWarning: The behavior of DataFrame concatenation with empty or all-NA entries is deprecated. In a future version, this will no longer exclude empty or all-NA columns when determining the result dtypes. To retain the old behavior, exclude the relevant entries before the concat operation.\n",
      "  self.df = pd.concat([member_df, coach_df])\n",
      "/Users/Lukas/Documents/Programming/Git/STVadmin_processing/src/utils/adress_databases.py:60: FutureWarning: The behavior of DataFrame concatenation with empty or all-NA entries is deprecated. In a future version, this will no longer exclude empty or all-NA columns when determining the result dtypes. To retain the old behavior, exclude the relevant entries before the concat operation.\n",
      "  self._df = pd.concat([self._df, pd.DataFrame.from_dict(entry_constructor_dict)])\n",
      "/Users/Lukas/Documents/Programming/Git/STVadmin_processing/src/utils/adress_databases.py:74: FutureWarning: The behavior of DataFrame concatenation with empty or all-NA entries is deprecated. In a future version, this will no longer exclude empty or all-NA columns when determining the result dtypes. To retain the old behavior, exclude the relevant entries before the concat operation.\n",
      "  self.df = pd.concat([member_df, coach_df])\n",
      "/Users/Lukas/Documents/Programming/Git/STVadmin_processing/src/utils/adress_databases.py:60: FutureWarning: The behavior of DataFrame concatenation with empty or all-NA entries is deprecated. In a future version, this will no longer exclude empty or all-NA columns when determining the result dtypes. To retain the old behavior, exclude the relevant entries before the concat operation.\n",
      "  self._df = pd.concat([self._df, pd.DataFrame.from_dict(entry_constructor_dict)])\n",
      "/Users/Lukas/Documents/Programming/Git/STVadmin_processing/src/utils/adress_databases.py:60: FutureWarning: The behavior of DataFrame concatenation with empty or all-NA entries is deprecated. In a future version, this will no longer exclude empty or all-NA columns when determining the result dtypes. To retain the old behavior, exclude the relevant entries before the concat operation.\n",
      "  self._df = pd.concat([self._df, pd.DataFrame.from_dict(entry_constructor_dict)])\n",
      "/Users/Lukas/Documents/Programming/Git/STVadmin_processing/src/utils/adress_databases.py:60: FutureWarning: The behavior of DataFrame concatenation with empty or all-NA entries is deprecated. In a future version, this will no longer exclude empty or all-NA columns when determining the result dtypes. To retain the old behavior, exclude the relevant entries before the concat operation.\n",
      "  self._df = pd.concat([self._df, pd.DataFrame.from_dict(entry_constructor_dict)])\n",
      "/Users/Lukas/Documents/Programming/Git/STVadmin_processing/src/utils/adress_databases.py:60: FutureWarning: The behavior of DataFrame concatenation with empty or all-NA entries is deprecated. In a future version, this will no longer exclude empty or all-NA columns when determining the result dtypes. To retain the old behavior, exclude the relevant entries before the concat operation.\n",
      "  self._df = pd.concat([self._df, pd.DataFrame.from_dict(entry_constructor_dict)])\n",
      "/Users/Lukas/Documents/Programming/Git/STVadmin_processing/src/utils/adress_databases.py:60: FutureWarning: The behavior of DataFrame concatenation with empty or all-NA entries is deprecated. In a future version, this will no longer exclude empty or all-NA columns when determining the result dtypes. To retain the old behavior, exclude the relevant entries before the concat operation.\n",
      "  self._df = pd.concat([self._df, pd.DataFrame.from_dict(entry_constructor_dict)])\n",
      "/Users/Lukas/Documents/Programming/Git/STVadmin_processing/src/utils/adress_databases.py:60: FutureWarning: The behavior of DataFrame concatenation with empty or all-NA entries is deprecated. In a future version, this will no longer exclude empty or all-NA columns when determining the result dtypes. To retain the old behavior, exclude the relevant entries before the concat operation.\n",
      "  self._df = pd.concat([self._df, pd.DataFrame.from_dict(entry_constructor_dict)])\n",
      "/Users/Lukas/Documents/Programming/Git/STVadmin_processing/src/utils/adress_databases.py:60: FutureWarning: The behavior of DataFrame concatenation with empty or all-NA entries is deprecated. In a future version, this will no longer exclude empty or all-NA columns when determining the result dtypes. To retain the old behavior, exclude the relevant entries before the concat operation.\n",
      "  self._df = pd.concat([self._df, pd.DataFrame.from_dict(entry_constructor_dict)])\n",
      "/Users/Lukas/Documents/Programming/Git/STVadmin_processing/src/utils/adress_databases.py:60: FutureWarning: The behavior of DataFrame concatenation with empty or all-NA entries is deprecated. In a future version, this will no longer exclude empty or all-NA columns when determining the result dtypes. To retain the old behavior, exclude the relevant entries before the concat operation.\n",
      "  self._df = pd.concat([self._df, pd.DataFrame.from_dict(entry_constructor_dict)])\n",
      "/Users/Lukas/Documents/Programming/Git/STVadmin_processing/src/utils/adress_databases.py:60: FutureWarning: The behavior of DataFrame concatenation with empty or all-NA entries is deprecated. In a future version, this will no longer exclude empty or all-NA columns when determining the result dtypes. To retain the old behavior, exclude the relevant entries before the concat operation.\n",
      "  self._df = pd.concat([self._df, pd.DataFrame.from_dict(entry_constructor_dict)])\n",
      "/Users/Lukas/Documents/Programming/Git/STVadmin_processing/src/utils/adress_databases.py:60: FutureWarning: The behavior of DataFrame concatenation with empty or all-NA entries is deprecated. In a future version, this will no longer exclude empty or all-NA columns when determining the result dtypes. To retain the old behavior, exclude the relevant entries before the concat operation.\n",
      "  self._df = pd.concat([self._df, pd.DataFrame.from_dict(entry_constructor_dict)])\n",
      "/Users/Lukas/Documents/Programming/Git/STVadmin_processing/src/utils/adress_databases.py:60: FutureWarning: The behavior of DataFrame concatenation with empty or all-NA entries is deprecated. In a future version, this will no longer exclude empty or all-NA columns when determining the result dtypes. To retain the old behavior, exclude the relevant entries before the concat operation.\n",
      "  self._df = pd.concat([self._df, pd.DataFrame.from_dict(entry_constructor_dict)])\n",
      "/Users/Lukas/Documents/Programming/Git/STVadmin_processing/src/utils/adress_databases.py:60: FutureWarning: The behavior of DataFrame concatenation with empty or all-NA entries is deprecated. In a future version, this will no longer exclude empty or all-NA columns when determining the result dtypes. To retain the old behavior, exclude the relevant entries before the concat operation.\n",
      "  self._df = pd.concat([self._df, pd.DataFrame.from_dict(entry_constructor_dict)])\n",
      "/Users/Lukas/Documents/Programming/Git/STVadmin_processing/src/utils/adress_databases.py:60: FutureWarning: The behavior of DataFrame concatenation with empty or all-NA entries is deprecated. In a future version, this will no longer exclude empty or all-NA columns when determining the result dtypes. To retain the old behavior, exclude the relevant entries before the concat operation.\n",
      "  self._df = pd.concat([self._df, pd.DataFrame.from_dict(entry_constructor_dict)])\n",
      "/Users/Lukas/Documents/Programming/Git/STVadmin_processing/src/utils/adress_databases.py:60: FutureWarning: The behavior of DataFrame concatenation with empty or all-NA entries is deprecated. In a future version, this will no longer exclude empty or all-NA columns when determining the result dtypes. To retain the old behavior, exclude the relevant entries before the concat operation.\n",
      "  self._df = pd.concat([self._df, pd.DataFrame.from_dict(entry_constructor_dict)])\n",
      "/Users/Lukas/Documents/Programming/Git/STVadmin_processing/src/utils/adress_databases.py:60: FutureWarning: The behavior of DataFrame concatenation with empty or all-NA entries is deprecated. In a future version, this will no longer exclude empty or all-NA columns when determining the result dtypes. To retain the old behavior, exclude the relevant entries before the concat operation.\n",
      "  self._df = pd.concat([self._df, pd.DataFrame.from_dict(entry_constructor_dict)])\n",
      "/Users/Lukas/Documents/Programming/Git/STVadmin_processing/src/utils/adress_databases.py:74: FutureWarning: The behavior of DataFrame concatenation with empty or all-NA entries is deprecated. In a future version, this will no longer exclude empty or all-NA columns when determining the result dtypes. To retain the old behavior, exclude the relevant entries before the concat operation.\n",
      "  self.df = pd.concat([member_df, coach_df])\n",
      "/Users/Lukas/Documents/Programming/Git/STVadmin_processing/src/utils/adress_databases.py:60: FutureWarning: The behavior of DataFrame concatenation with empty or all-NA entries is deprecated. In a future version, this will no longer exclude empty or all-NA columns when determining the result dtypes. To retain the old behavior, exclude the relevant entries before the concat operation.\n",
      "  self._df = pd.concat([self._df, pd.DataFrame.from_dict(entry_constructor_dict)])\n",
      "/Users/Lukas/Documents/Programming/Git/STVadmin_processing/src/utils/adress_databases.py:60: FutureWarning: The behavior of DataFrame concatenation with empty or all-NA entries is deprecated. In a future version, this will no longer exclude empty or all-NA columns when determining the result dtypes. To retain the old behavior, exclude the relevant entries before the concat operation.\n",
      "  self._df = pd.concat([self._df, pd.DataFrame.from_dict(entry_constructor_dict)])\n",
      "/Users/Lukas/Documents/Programming/Git/STVadmin_processing/src/utils/adress_databases.py:60: FutureWarning: The behavior of DataFrame concatenation with empty or all-NA entries is deprecated. In a future version, this will no longer exclude empty or all-NA columns when determining the result dtypes. To retain the old behavior, exclude the relevant entries before the concat operation.\n",
      "  self._df = pd.concat([self._df, pd.DataFrame.from_dict(entry_constructor_dict)])\n",
      "/Users/Lukas/Documents/Programming/Git/STVadmin_processing/src/utils/adress_databases.py:60: FutureWarning: The behavior of DataFrame concatenation with empty or all-NA entries is deprecated. In a future version, this will no longer exclude empty or all-NA columns when determining the result dtypes. To retain the old behavior, exclude the relevant entries before the concat operation.\n",
      "  self._df = pd.concat([self._df, pd.DataFrame.from_dict(entry_constructor_dict)])\n",
      "/Users/Lukas/Documents/Programming/Git/STVadmin_processing/src/utils/adress_databases.py:60: FutureWarning: The behavior of DataFrame concatenation with empty or all-NA entries is deprecated. In a future version, this will no longer exclude empty or all-NA columns when determining the result dtypes. To retain the old behavior, exclude the relevant entries before the concat operation.\n",
      "  self._df = pd.concat([self._df, pd.DataFrame.from_dict(entry_constructor_dict)])\n",
      "/Users/Lukas/Documents/Programming/Git/STVadmin_processing/src/utils/adress_databases.py:60: FutureWarning: The behavior of DataFrame concatenation with empty or all-NA entries is deprecated. In a future version, this will no longer exclude empty or all-NA columns when determining the result dtypes. To retain the old behavior, exclude the relevant entries before the concat operation.\n",
      "  self._df = pd.concat([self._df, pd.DataFrame.from_dict(entry_constructor_dict)])\n",
      "/Users/Lukas/Documents/Programming/Git/STVadmin_processing/src/utils/adress_databases.py:60: FutureWarning: The behavior of DataFrame concatenation with empty or all-NA entries is deprecated. In a future version, this will no longer exclude empty or all-NA columns when determining the result dtypes. To retain the old behavior, exclude the relevant entries before the concat operation.\n",
      "  self._df = pd.concat([self._df, pd.DataFrame.from_dict(entry_constructor_dict)])\n",
      "/Users/Lukas/Documents/Programming/Git/STVadmin_processing/src/utils/adress_databases.py:60: FutureWarning: The behavior of DataFrame concatenation with empty or all-NA entries is deprecated. In a future version, this will no longer exclude empty or all-NA columns when determining the result dtypes. To retain the old behavior, exclude the relevant entries before the concat operation.\n",
      "  self._df = pd.concat([self._df, pd.DataFrame.from_dict(entry_constructor_dict)])\n",
      "/Users/Lukas/Documents/Programming/Git/STVadmin_processing/src/utils/adress_databases.py:60: FutureWarning: The behavior of DataFrame concatenation with empty or all-NA entries is deprecated. In a future version, this will no longer exclude empty or all-NA columns when determining the result dtypes. To retain the old behavior, exclude the relevant entries before the concat operation.\n",
      "  self._df = pd.concat([self._df, pd.DataFrame.from_dict(entry_constructor_dict)])\n",
      "/Users/Lukas/Documents/Programming/Git/STVadmin_processing/src/utils/adress_databases.py:60: FutureWarning: The behavior of DataFrame concatenation with empty or all-NA entries is deprecated. In a future version, this will no longer exclude empty or all-NA columns when determining the result dtypes. To retain the old behavior, exclude the relevant entries before the concat operation.\n",
      "  self._df = pd.concat([self._df, pd.DataFrame.from_dict(entry_constructor_dict)])\n",
      "/Users/Lukas/Documents/Programming/Git/STVadmin_processing/src/utils/adress_databases.py:60: FutureWarning: The behavior of DataFrame concatenation with empty or all-NA entries is deprecated. In a future version, this will no longer exclude empty or all-NA columns when determining the result dtypes. To retain the old behavior, exclude the relevant entries before the concat operation.\n",
      "  self._df = pd.concat([self._df, pd.DataFrame.from_dict(entry_constructor_dict)])\n",
      "/Users/Lukas/Documents/Programming/Git/STVadmin_processing/src/utils/adress_databases.py:60: FutureWarning: The behavior of DataFrame concatenation with empty or all-NA entries is deprecated. In a future version, this will no longer exclude empty or all-NA columns when determining the result dtypes. To retain the old behavior, exclude the relevant entries before the concat operation.\n",
      "  self._df = pd.concat([self._df, pd.DataFrame.from_dict(entry_constructor_dict)])\n",
      "/Users/Lukas/Documents/Programming/Git/STVadmin_processing/src/utils/adress_databases.py:60: FutureWarning: The behavior of DataFrame concatenation with empty or all-NA entries is deprecated. In a future version, this will no longer exclude empty or all-NA columns when determining the result dtypes. To retain the old behavior, exclude the relevant entries before the concat operation.\n",
      "  self._df = pd.concat([self._df, pd.DataFrame.from_dict(entry_constructor_dict)])\n",
      "/Users/Lukas/Documents/Programming/Git/STVadmin_processing/src/utils/adress_databases.py:74: FutureWarning: The behavior of DataFrame concatenation with empty or all-NA entries is deprecated. In a future version, this will no longer exclude empty or all-NA columns when determining the result dtypes. To retain the old behavior, exclude the relevant entries before the concat operation.\n",
      "  self.df = pd.concat([member_df, coach_df])\n",
      "/Users/Lukas/Documents/Programming/Git/STVadmin_processing/src/utils/adress_databases.py:60: FutureWarning: The behavior of DataFrame concatenation with empty or all-NA entries is deprecated. In a future version, this will no longer exclude empty or all-NA columns when determining the result dtypes. To retain the old behavior, exclude the relevant entries before the concat operation.\n",
      "  self._df = pd.concat([self._df, pd.DataFrame.from_dict(entry_constructor_dict)])\n",
      "/Users/Lukas/Documents/Programming/Git/STVadmin_processing/src/utils/adress_databases.py:60: FutureWarning: The behavior of DataFrame concatenation with empty or all-NA entries is deprecated. In a future version, this will no longer exclude empty or all-NA columns when determining the result dtypes. To retain the old behavior, exclude the relevant entries before the concat operation.\n",
      "  self._df = pd.concat([self._df, pd.DataFrame.from_dict(entry_constructor_dict)])\n",
      "/Users/Lukas/Documents/Programming/Git/STVadmin_processing/src/utils/adress_databases.py:60: FutureWarning: The behavior of DataFrame concatenation with empty or all-NA entries is deprecated. In a future version, this will no longer exclude empty or all-NA columns when determining the result dtypes. To retain the old behavior, exclude the relevant entries before the concat operation.\n",
      "  self._df = pd.concat([self._df, pd.DataFrame.from_dict(entry_constructor_dict)])\n",
      "/Users/Lukas/Documents/Programming/Git/STVadmin_processing/src/utils/adress_databases.py:60: FutureWarning: The behavior of DataFrame concatenation with empty or all-NA entries is deprecated. In a future version, this will no longer exclude empty or all-NA columns when determining the result dtypes. To retain the old behavior, exclude the relevant entries before the concat operation.\n",
      "  self._df = pd.concat([self._df, pd.DataFrame.from_dict(entry_constructor_dict)])\n",
      "/Users/Lukas/Documents/Programming/Git/STVadmin_processing/src/utils/adress_databases.py:60: FutureWarning: The behavior of DataFrame concatenation with empty or all-NA entries is deprecated. In a future version, this will no longer exclude empty or all-NA columns when determining the result dtypes. To retain the old behavior, exclude the relevant entries before the concat operation.\n",
      "  self._df = pd.concat([self._df, pd.DataFrame.from_dict(entry_constructor_dict)])\n",
      "/Users/Lukas/Documents/Programming/Git/STVadmin_processing/src/utils/adress_databases.py:60: FutureWarning: The behavior of DataFrame concatenation with empty or all-NA entries is deprecated. In a future version, this will no longer exclude empty or all-NA columns when determining the result dtypes. To retain the old behavior, exclude the relevant entries before the concat operation.\n",
      "  self._df = pd.concat([self._df, pd.DataFrame.from_dict(entry_constructor_dict)])\n"
     ]
    }
   ],
   "source": [
    "client.export_riegenlisten_excel()"
   ]
  },
  {
   "cell_type": "code",
   "execution_count": 7,
   "metadata": {},
   "outputs": [
    {
     "name": "stderr",
     "output_type": "stream",
     "text": [
      "/Users/Lukas/Documents/Programming/Git/STVadmin_processing/src/utils/adress_databases.py:60: FutureWarning: The behavior of DataFrame concatenation with empty or all-NA entries is deprecated. In a future version, this will no longer exclude empty or all-NA columns when determining the result dtypes. To retain the old behavior, exclude the relevant entries before the concat operation.\n",
      "  self._df = pd.concat([self._df, pd.DataFrame.from_dict(entry_constructor_dict)])\n"
     ]
    }
   ],
   "source": [
    "client.export_ehrenmitglieder_no_mail_people_excel()"
   ]
  },
  {
   "cell_type": "code",
   "execution_count": 8,
   "metadata": {},
   "outputs": [
    {
     "name": "stderr",
     "output_type": "stream",
     "text": [
      "/Users/Lukas/Documents/Programming/Git/STVadmin_processing/src/utils/adress_databases.py:60: FutureWarning: The behavior of DataFrame concatenation with empty or all-NA entries is deprecated. In a future version, this will no longer exclude empty or all-NA columns when determining the result dtypes. To retain the old behavior, exclude the relevant entries before the concat operation.\n",
      "  self._df = pd.concat([self._df, pd.DataFrame.from_dict(entry_constructor_dict)])\n"
     ]
    }
   ],
   "source": [
    "client.export_no_mail_excel()"
   ]
  },
  {
   "cell_type": "code",
   "execution_count": 9,
   "metadata": {},
   "outputs": [
    {
     "name": "stderr",
     "output_type": "stream",
     "text": [
      "/Users/Lukas/Documents/Programming/Git/STVadmin_processing/src/utils/adress_databases.py:60: FutureWarning: The behavior of DataFrame concatenation with empty or all-NA entries is deprecated. In a future version, this will no longer exclude empty or all-NA columns when determining the result dtypes. To retain the old behavior, exclude the relevant entries before the concat operation.\n",
      "  self._df = pd.concat([self._df, pd.DataFrame.from_dict(entry_constructor_dict)])\n",
      "/Users/Lukas/Documents/Programming/Git/STVadmin_processing/src/utils/adress_databases.py:60: FutureWarning: The behavior of DataFrame concatenation with empty or all-NA entries is deprecated. In a future version, this will no longer exclude empty or all-NA columns when determining the result dtypes. To retain the old behavior, exclude the relevant entries before the concat operation.\n",
      "  self._df = pd.concat([self._df, pd.DataFrame.from_dict(entry_constructor_dict)])\n",
      "/Users/Lukas/Documents/Programming/Git/STVadmin_processing/src/utils/adress_databases.py:60: FutureWarning: The behavior of DataFrame concatenation with empty or all-NA entries is deprecated. In a future version, this will no longer exclude empty or all-NA columns when determining the result dtypes. To retain the old behavior, exclude the relevant entries before the concat operation.\n",
      "  self._df = pd.concat([self._df, pd.DataFrame.from_dict(entry_constructor_dict)])\n",
      "/Users/Lukas/Documents/Programming/Git/STVadmin_processing/src/utils/adress_databases.py:60: FutureWarning: The behavior of DataFrame concatenation with empty or all-NA entries is deprecated. In a future version, this will no longer exclude empty or all-NA columns when determining the result dtypes. To retain the old behavior, exclude the relevant entries before the concat operation.\n",
      "  self._df = pd.concat([self._df, pd.DataFrame.from_dict(entry_constructor_dict)])\n",
      "/Users/Lukas/Documents/Programming/Git/STVadmin_processing/src/utils/adress_databases.py:60: FutureWarning: The behavior of DataFrame concatenation with empty or all-NA entries is deprecated. In a future version, this will no longer exclude empty or all-NA columns when determining the result dtypes. To retain the old behavior, exclude the relevant entries before the concat operation.\n",
      "  self._df = pd.concat([self._df, pd.DataFrame.from_dict(entry_constructor_dict)])\n",
      "/Users/Lukas/Documents/Programming/Git/STVadmin_processing/src/utils/adress_databases.py:60: FutureWarning: The behavior of DataFrame concatenation with empty or all-NA entries is deprecated. In a future version, this will no longer exclude empty or all-NA columns when determining the result dtypes. To retain the old behavior, exclude the relevant entries before the concat operation.\n",
      "  self._df = pd.concat([self._df, pd.DataFrame.from_dict(entry_constructor_dict)])\n"
     ]
    }
   ],
   "source": [
    "client.export_gv_lists(2025)"
   ]
  },
  {
   "cell_type": "code",
   "execution_count": 8,
   "metadata": {},
   "outputs": [],
   "source": [
    "import pandas as pd"
   ]
  },
  {
   "cell_type": "code",
   "execution_count": 9,
   "metadata": {},
   "outputs": [
    {
     "data": {
      "text/plain": [
       "2024"
      ]
     },
     "execution_count": 9,
     "metadata": {},
     "output_type": "execute_result"
    }
   ],
   "source": [
    "pd.Timestamp.now().year"
   ]
  },
  {
   "cell_type": "code",
   "execution_count": null,
   "metadata": {},
   "outputs": [],
   "source": []
  }
 ],
 "metadata": {
  "kernelspec": {
   "display_name": ".venv",
   "language": "python",
   "name": "python3"
  },
  "language_info": {
   "codemirror_mode": {
    "name": "ipython",
    "version": 3
   },
   "file_extension": ".py",
   "mimetype": "text/x-python",
   "name": "python",
   "nbconvert_exporter": "python",
   "pygments_lexer": "ipython3",
   "version": "3.12.0"
  }
 },
 "nbformat": 4,
 "nbformat_minor": 2
}
